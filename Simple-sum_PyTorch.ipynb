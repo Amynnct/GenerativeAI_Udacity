{
  "nbformat": 4,
  "nbformat_minor": 0,
  "metadata": {
    "colab": {
      "provenance": []
    },
    "kernelspec": {
      "name": "python3",
      "display_name": "Python 3"
    },
    "language_info": {
      "name": "python"
    }
  },
  "cells": [
    {
      "cell_type": "code",
      "source": [
        "!pip3 uninstall -q --yes torch torchaudio torchvision torchtext torchdata\n",
        "!pip3 install -q torch torchaudio torchvision torchtext torchdata"
      ],
      "metadata": {
        "id": "HOVswaqzIIYc"
      },
      "execution_count": null,
      "outputs": []
    },
    {
      "cell_type": "code",
      "source": [
        "!pip install -q --upgrade torch"
      ],
      "metadata": {
        "id": "22A6BMsnSD2t"
      },
      "execution_count": null,
      "outputs": []
    },
    {
      "cell_type": "code",
      "execution_count": null,
      "metadata": {
        "id": "vT8fIt9GFp9d"
      },
      "outputs": [],
      "source": [
        "import torch\n",
        "import torch.nn as nn\n",
        "import torch.optim as optim\n",
        "from torch.utils.data import Dataset, DataLoader\n",
        "\n",
        "class NumberSumDataset(Dataset):\n",
        "  def __init__(self, data_range=(1,10)):\n",
        "    self.numbers = list(range(data_range[0], data_range[1]))\n",
        "\n",
        "  def __getitem__(self, index):\n",
        "    number1 = float(self.numbers[index // len(self.numbers)]) #for example index 34 will couple 3 and 4 together\n",
        "    number2 = float(self.numbers[index % len(self.numbers)])\n",
        "    return torch.tensor([number1, number2]), torch.tensor([number1 + number2]) # two separate tensors, one as the input, one as the expected output\n",
        "\n",
        "  def __len__(self):\n",
        "    return len(self.numbers) **2\n",
        "\n"
      ]
    },
    {
      "cell_type": "code",
      "source": [
        "dataset = NumberSumDataset(data_range=(1, 100))\n",
        "\n",
        "for i in range(5):\n",
        "    print(dataset[i])"
      ],
      "metadata": {
        "colab": {
          "base_uri": "https://localhost:8080/"
        },
        "id": "TFPrFagcQf3l",
        "outputId": "4ab4e923-cfc5-4966-b670-e1dc4a0ca492"
      },
      "execution_count": null,
      "outputs": [
        {
          "output_type": "stream",
          "name": "stdout",
          "text": [
            "(tensor([1., 1.]), tensor([2.]))\n",
            "(tensor([1., 2.]), tensor([3.]))\n",
            "(tensor([1., 3.]), tensor([4.]))\n",
            "(tensor([1., 4.]), tensor([5.]))\n",
            "(tensor([1., 5.]), tensor([6.]))\n"
          ]
        }
      ]
    },
    {
      "cell_type": "code",
      "source": [
        "class MLP(nn.Module):\n",
        "  def __init__(self, input_size=2):\n",
        "    super(MLP, self).__init__()\n",
        "    self.hidden_layer = nn.Linear(input_size, 128)\n",
        "    self.output_layer = nn.Linear(128, 1)\n",
        "    self.activation = nn.ReLU()\n",
        "\n",
        "  def forward(self, x):\n",
        "    x = self.activation(self.hidden_layer(x))\n",
        "    return self.output_layer(x)"
      ],
      "metadata": {
        "id": "0I-Ps8HpGas7"
      },
      "execution_count": null,
      "outputs": []
    },
    {
      "cell_type": "code",
      "source": [
        "# Instantiate Components Needed for Training\n",
        "dataset = NumberSumDataset(data_range=(0, 100))\n",
        "dataloader = DataLoader(dataset, batch_size=100, shuffle=True)\n",
        "model = MLP(input_size=2)\n",
        "loss_function = nn.MSELoss()\n",
        "optimizer = optim.Adam(model.parameters(), lr=0.001)"
      ],
      "metadata": {
        "id": "oOKH-uo2J1KS"
      },
      "execution_count": null,
      "outputs": []
    },
    {
      "cell_type": "code",
      "source": [
        "# Create a Training Loop\n",
        "for epoch in range(10):\n",
        "  loss = 0.0\n",
        "  for num_pairs, sums in dataloader:\n",
        "    predictions = model(num_pairs)\n",
        "    loss = loss_function(predictions, sums)\n",
        "    loss.backward()\n",
        "    optimizer.step()\n",
        "    optimizer.zero_grad()\n",
        "\n",
        "    loss += loss.item()\n",
        "\n",
        "  print(\"Epoch {}: Sum of Batch Losses = {:.5f}\".format(epoch, loss))\n",
        "    # Epoch 0: Sum of Batch Losses = 118.82360\n",
        "    # Epoch 1: Sum of Batch Losses = 39.75702\n",
        "    # Epoch 2: Sum of Batch Losses = 2.16352\n",
        "    # Epoch 3: Sum of Batch Losses = 0.25178\n",
        "    # Epoch 4: Sum of Batch Losses = 0.22843\n",
        "    # Epoch 5: Sum of Batch Losses = 0.19182\n",
        "    # Epoch 6: Sum of Batch Losses = 0.15507\n",
        "    # Epoch 7: Sum of Batch Losses = 0.07789\n",
        "    # Epoch 8: Sum of Batch Losses = 0.06329\n",
        "    # Epoch 9: Sum of Batch Losses = 0.04936"
      ],
      "metadata": {
        "id": "olYCd-cZKs9i"
      },
      "execution_count": null,
      "outputs": []
    },
    {
      "cell_type": "code",
      "source": [
        "# Test the model on 3 + 7\n",
        "model(torch.tensor([3.0, 7.0]))\n",
        "# tensor([10.1067], grad_fn=<AddBackward0>)"
      ],
      "metadata": {
        "id": "okENqy2fWQ1R"
      },
      "execution_count": null,
      "outputs": []
    }
  ]
}